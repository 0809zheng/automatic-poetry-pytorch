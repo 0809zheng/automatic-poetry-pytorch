{
 "cells": [
  {
   "cell_type": "markdown",
   "metadata": {},
   "source": [
    "# 自动写诗      \n",
    "\n",
    "### 作者：郑之杰\n",
    "\n",
    "首先导入必要的库："
   ]
  },
  {
   "cell_type": "code",
   "execution_count": 1,
   "metadata": {},
   "outputs": [],
   "source": [
    "import numpy as np\n",
    "import torch\n",
    "import torch.nn as nn\n",
    "from torch.utils.data import DataLoader"
   ]
  },
  {
   "cell_type": "markdown",
   "metadata": {},
   "source": [
    "# 加载数据集\n",
    "\n",
    "本次实验的数据来自chinese-poetry：https://github.com/chinese-poetry/chinese-poetry\n",
    "\n",
    "实验提供预处理过的数据集，含有57580首唐诗，每首诗限定在125词，不足125词的以```<s>```填充。数据集以npz文件形式保存，包含三个部分：\n",
    "- （1）data: 诗词数据，将诗词中的字转化为其在字典中的序号表示。\n",
    "- （2）ix2word: 序号到字的映射\n",
    "- （3）word2ix: 字到序号的映射\n",
    "\n",
    "预处理数据集的下载：[点击下载](https://yun.sfo2.digitaloceanspaces.com/pytorch_book/pytorch_book/tang.npz)"
   ]
  },
  {
   "cell_type": "code",
   "execution_count": 2,
   "metadata": {},
   "outputs": [],
   "source": [
    "def prepareData():\n",
    "    \n",
    "    # 读入预处理的数据\n",
    "    datas = np.load(\"tang.npz\")\n",
    "    data = datas['data']\n",
    "    ix2word = datas['ix2word'].item()\n",
    "    word2ix = datas['word2ix'].item()\n",
    "    \n",
    "    # 转为torch.Tensor\n",
    "    data = torch.from_numpy(data)\n",
    "    dataloader = DataLoader(data,\n",
    "                         batch_size = 16,\n",
    "                         shuffle = True,\n",
    "                         num_workers = 2)\n",
    "    \n",
    "    return dataloader, ix2word, word2ix"
   ]
  },
  {
   "cell_type": "code",
   "execution_count": 3,
   "metadata": {},
   "outputs": [],
   "source": [
    "dataloader, ix2word, word2ix = prepareData()"
   ]
  },
  {
   "cell_type": "markdown",
   "metadata": {},
   "source": [
    "# 构建模型\n",
    "\n",
    "模型包括Embedding层、LSTM层和输出层。"
   ]
  },
  {
   "cell_type": "code",
   "execution_count": 4,
   "metadata": {},
   "outputs": [],
   "source": [
    "class PoetryModel(nn.Module):\n",
    "    def __init__(self, vocab_size, embedding_dim, hidden_dim):\n",
    "        super(PoetryModel, self).__init__()\n",
    "        self.hidden_dim = hidden_dim\n",
    "        self.embedding = nn.Embedding(vocab_size, embedding_dim)\n",
    "        self.lstm = nn.LSTM(embedding_dim, self.hidden_dim, num_layers=2)\n",
    "        self.linear = nn.Linear(self.hidden_dim, vocab_size)\n",
    "\n",
    "    def forward(self, input, hidden = None):\n",
    "        seq_len, batch_size = input.size()\n",
    "        \n",
    "        if hidden is None:\n",
    "            h_0 = input.data.new(2, batch_size, self.hidden_dim).fill_(0).float()\n",
    "            c_0 = input.data.new(2, batch_size, self.hidden_dim).fill_(0).float()\n",
    "        else:\n",
    "            h_0, c_0 = hidden\n",
    "\n",
    "        embeds = self.embedding(input)\n",
    "        output, hidden = self.lstm(embeds, (h_0, c_0))\n",
    "        output = self.linear(output.view(seq_len * batch_size, -1))\n",
    "        return output, hidden"
   ]
  },
  {
   "cell_type": "markdown",
   "metadata": {},
   "source": [
    "# 训练模型"
   ]
  },
  {
   "cell_type": "code",
   "execution_count": 5,
   "metadata": {},
   "outputs": [],
   "source": [
    "# 设置超参数\n",
    "learning_rate = 5e-3       # 学习率\n",
    "embedding_dim = 128        # 嵌入层维度\n",
    "hidden_dim = 256           # 隐藏层维度\n",
    "model_path = None          # 预训练模型路径\n",
    "epochs = 4                 # 训练轮数\n",
    "verbose = True             # 打印训练过程\n",
    "device = torch.device('cuda:0' if torch.cuda.is_available() else 'cpu')"
   ]
  },
  {
   "cell_type": "code",
   "execution_count": 6,
   "metadata": {},
   "outputs": [],
   "source": [
    "def train(dataloader, ix2word, word2ix):\n",
    "\n",
    "    # 配置模型，是否继续上一次的训练\n",
    "    model = PoetryModel(len(word2ix), embedding_dim, hidden_dim)\n",
    "    if model_path:\n",
    "        model.load_state_dict(torch.load(model_path))\n",
    "    model.to(device)\n",
    "    \n",
    "    # 设置优化器\n",
    "    optimizer = torch.optim.Adam(model.parameters(), lr = learning_rate)\n",
    "\n",
    "    # 设置损失函数\n",
    "    criterion = nn.CrossEntropyLoss()\n",
    "\n",
    "    # 定义训练过程\n",
    "    for epoch in range(epochs):\n",
    "        for batch_idx, data in enumerate(dataloader):\n",
    "            data = data.long().transpose(1, 0).contiguous()\n",
    "            data = data.to(device)\n",
    "            input, target = data[:-1, :], data[1:, :]\n",
    "            output, _ = model(input)\n",
    "            loss = criterion(output, target.view(-1))\n",
    "            \n",
    "            if batch_idx % 900 == 0 & verbose:\n",
    "                print('Train Epoch: {} [{}/{} ({:.0f}%)]\\tLoss: {:.6f}'.format(\n",
    "                    epoch+1, batch_idx * len(data[1]), len(dataloader.dataset),\n",
    "                    100. * batch_idx / len(dataloader), loss.item()))\n",
    "            \n",
    "            optimizer.zero_grad()\n",
    "            loss.backward()\n",
    "            optimizer.step()\n",
    "\n",
    "    # 保存模型\n",
    "    torch.save(model.state_dict(), 'model.pth')"
   ]
  },
  {
   "cell_type": "code",
   "execution_count": 7,
   "metadata": {},
   "outputs": [
    {
     "name": "stdout",
     "output_type": "stream",
     "text": [
      "Train Epoch: 1 [0/57580 (0%)]\tLoss: 8.991456\n",
      "Train Epoch: 1 [14400/57580 (25%)]\tLoss: 2.581470\n",
      "Train Epoch: 1 [28800/57580 (50%)]\tLoss: 2.751966\n",
      "Train Epoch: 1 [43200/57580 (75%)]\tLoss: 2.144301\n",
      "Train Epoch: 2 [0/57580 (0%)]\tLoss: 2.348747\n",
      "Train Epoch: 2 [14400/57580 (25%)]\tLoss: 2.117488\n",
      "Train Epoch: 2 [28800/57580 (50%)]\tLoss: 2.355037\n",
      "Train Epoch: 2 [43200/57580 (75%)]\tLoss: 2.676550\n",
      "Train Epoch: 3 [0/57580 (0%)]\tLoss: 2.454466\n",
      "Train Epoch: 3 [14400/57580 (25%)]\tLoss: 2.279747\n",
      "Train Epoch: 3 [28800/57580 (50%)]\tLoss: 2.265135\n",
      "Train Epoch: 3 [43200/57580 (75%)]\tLoss: 1.936758\n",
      "Train Epoch: 4 [0/57580 (0%)]\tLoss: 2.007303\n",
      "Train Epoch: 4 [14400/57580 (25%)]\tLoss: 2.050078\n",
      "Train Epoch: 4 [28800/57580 (50%)]\tLoss: 1.963969\n",
      "Train Epoch: 4 [43200/57580 (75%)]\tLoss: 1.757161\n"
     ]
    }
   ],
   "source": [
    "train(dataloader, ix2word, word2ix)"
   ]
  },
  {
   "cell_type": "markdown",
   "metadata": {},
   "source": [
    "# 生成唐诗\n",
    "\n",
    "给定几个词，根据这几个词接着生成一首完整的唐诗。"
   ]
  },
  {
   "cell_type": "code",
   "execution_count": 8,
   "metadata": {},
   "outputs": [],
   "source": [
    "# 设置超参数\n",
    "model_path = 'model.pth'        # 模型路径\n",
    "start_words = '湖光秋月两相和'  # 唐诗的第一句\n",
    "max_gen_len = 125                # 生成唐诗的最长长度"
   ]
  },
  {
   "cell_type": "code",
   "execution_count": 9,
   "metadata": {
    "scrolled": false
   },
   "outputs": [],
   "source": [
    "def generate(start_words, ix2word, word2ix):\n",
    "\n",
    "    # 读取模型\n",
    "    model = PoetryModel(len(word2ix), embedding_dim, hidden_dim)\n",
    "    model.load_state_dict(torch.load(model_path))\n",
    "    model.to(device)\n",
    "    \n",
    "    # 读取唐诗的第一句\n",
    "    results = list(start_words)\n",
    "    start_word_len = len(start_words)\n",
    "    \n",
    "    # 设置第一个词为<START>\n",
    "    input = torch.Tensor([word2ix['<START>']]).view(1, 1).long()\n",
    "    input = input.to(device)\n",
    "    hidden = None\n",
    "\n",
    "    # 生成唐诗\n",
    "    for i in range(max_gen_len):\n",
    "        output, hidden = model(input, hidden)\n",
    "        # 读取第一句\n",
    "        if i < start_word_len:\n",
    "            w = results[i]\n",
    "            input = input.data.new([word2ix[w]]).view(1, 1)\n",
    "        # 生成后面的句子\n",
    "        else:\n",
    "            top_index = output.data[0].topk(1)[1][0].item()\n",
    "            w = ix2word[top_index]\n",
    "            results.append(w)\n",
    "            input = input.data.new([top_index]).view(1, 1)\n",
    "        # 结束标志\n",
    "        if w == '<EOP>':\n",
    "            del results[-1]\n",
    "            break\n",
    "            \n",
    "    return results"
   ]
  },
  {
   "cell_type": "code",
   "execution_count": 10,
   "metadata": {},
   "outputs": [
    {
     "name": "stdout",
     "output_type": "stream",
     "text": [
      "['湖', '光', '秋', '月', '两', '相', '和', '，', '一', '片', '云', '中', '一', '片', '红', '。', '一', '片', '玉', '壺', '金', '翡', '翠', '，', '一', '枝', '红', '叶', '绿', '苔', '生', '。', '玉', '阶', '金', '缕', '金', '钗', '白', '，', '玉', '笛', '声', '声', '啼', '夜', '啼', '。', '一', '夜', '风', '吹', '花', '影', '落', '，', '一', '声', '啼', '鸟', '啼', '猨', '啼', '。', '一', '夜', '风', '吹', '不', '可', '见', '，', '一', '片', '红', '绡', '满', '衣', '裳', '。', '一', '夜', '一', '声', '啼', '不', '断', '，', '一', '声', '啼', '鸟', '啼', '不', '断', '。', '一', '夜', '风', '吹', '不', '可', '见', '，', '一', '声', '啼', '鸟', '啼', '不', '断', '。', '一', '夜', '风', '吹', '不', '可', '见', '，', '一', '声', '啼', '鸟', '啼']\n"
     ]
    }
   ],
   "source": [
    "results = generate(start_words, ix2word, word2ix)\n",
    "print(results)"
   ]
  },
  {
   "cell_type": "markdown",
   "metadata": {},
   "source": [
    "# 生成藏头诗\n",
    "\n"
   ]
  },
  {
   "cell_type": "code",
   "execution_count": 11,
   "metadata": {},
   "outputs": [],
   "source": [
    "# 设置超参数\n",
    "model_path = 'model.pth'                 # 模型路径\n",
    "start_words_acrostic = '湖光秋月两相和'  # 唐诗的“头”\n",
    "max_gen_len_acrostic = 125               # 生成唐诗的最长长度"
   ]
  },
  {
   "cell_type": "code",
   "execution_count": 12,
   "metadata": {
    "scrolled": false
   },
   "outputs": [],
   "source": [
    "def gen_acrostic(start_words, ix2word, word2ix):\n",
    "\n",
    "    # 读取模型\n",
    "    model = PoetryModel(len(word2ix), embedding_dim, hidden_dim)\n",
    "    model.load_state_dict(torch.load(model_path))\n",
    "    model.to(device)\n",
    "    \n",
    "    # 读取唐诗的“头”\n",
    "    results = []\n",
    "    start_word_len = len(start_words)\n",
    "    \n",
    "    # 设置第一个词为<START>\n",
    "    input = (torch.Tensor([word2ix['<START>']]).view(1, 1).long())\n",
    "    input = input.to(device)\n",
    "    hidden = None\n",
    "\n",
    "    index = 0            # 指示已生成了多少句\n",
    "    pre_word = '<START>' # 上一个词\n",
    "\n",
    "    # 生成藏头诗\n",
    "    for i in range(max_gen_len_acrostic):\n",
    "        output, hidden = model(input, hidden)\n",
    "        top_index = output.data[0].topk(1)[1][0].item()\n",
    "        w = ix2word[top_index]\n",
    "\n",
    "        # 如果遇到标志一句的结尾，喂入下一个“头”\n",
    "        if (pre_word in {u'。', u'！', '<START>'}):\n",
    "            # 如果生成的诗已经包含全部“头”，则结束\n",
    "            if index == start_word_len:\n",
    "                break\n",
    "            # 把“头”作为输入喂入模型\n",
    "            else:\n",
    "                w = start_words[index]\n",
    "                index += 1\n",
    "                input = (input.data.new([word2ix[w]])).view(1, 1)\n",
    "                \n",
    "        # 否则，把上一次预测作为下一个词输入\n",
    "        else:\n",
    "            input = (input.data.new([word2ix[w]])).view(1, 1)\n",
    "        results.append(w)\n",
    "        pre_word = w\n",
    "        \n",
    "    return results"
   ]
  },
  {
   "cell_type": "code",
   "execution_count": 13,
   "metadata": {},
   "outputs": [
    {
     "name": "stdout",
     "output_type": "stream",
     "text": [
      "['湖', '上', '春', '风', '吹', '，', '春', '风', '吹', '落', '花', '。', '光', '阴', '一', '片', '月', '，', '一', '片', '绿', '苔', '生', '。', '秋', '风', '吹', '落', '日', '，', '白', '日', '照', '寒', '烟', '。', '月', '色', '连', '天', '远', '，', '江', '云', '入', '海', '门', '。', '两', '家', '春', '草', '绿', '，', '万', '里', '雪', '霜', '开', '。', '相', '见', '无', '人', '见', '，', '长', '安', '有', '故', '人', '。', '和', '风', '吹', '落', '日', '，', '白', '日', '照', '寒', '烟', '。']\n"
     ]
    }
   ],
   "source": [
    "results_acrostic = gen_acrostic(start_words_acrostic, ix2word, word2ix)\n",
    "print(results_acrostic)"
   ]
  }
 ],
 "metadata": {
  "kernelspec": {
   "display_name": "Python 3",
   "language": "python",
   "name": "python3"
  },
  "language_info": {
   "codemirror_mode": {
    "name": "ipython",
    "version": 3
   },
   "file_extension": ".py",
   "mimetype": "text/x-python",
   "name": "python",
   "nbconvert_exporter": "python",
   "pygments_lexer": "ipython3",
   "version": "3.7.1"
  }
 },
 "nbformat": 4,
 "nbformat_minor": 2
}
